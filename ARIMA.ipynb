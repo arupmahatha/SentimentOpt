{
 "cells": [
  {
   "cell_type": "markdown",
   "metadata": {},
   "source": [
    "## Libraries"
   ]
  },
  {
   "cell_type": "code",
   "execution_count": null,
   "metadata": {},
   "outputs": [],
   "source": [
    "import numpy as np\n",
    "import pandas as pd\n",
    "import matplotlib.pyplot as plt\n",
    "\n",
    "import yfinance as yf\n",
    "\n",
    "from pmdarima import auto_arima\n",
    "from sklearn.metrics import mean_absolute_error, mean_squared_error, r2_score\n",
    "from sklearn.preprocessing import MinMaxScaler\n",
    "from tensorflow.keras.models import Sequential\n",
    "from tensorflow.keras.layers import LSTM, Dense\n",
    "from tensorflow.keras.optimizers import Adam\n",
    "\n",
    "from pyswarm import pso"
   ]
  },
  {
   "cell_type": "markdown",
   "metadata": {},
   "source": [
    "## EDA"
   ]
  },
  {
   "cell_type": "code",
   "execution_count": null,
   "metadata": {},
   "outputs": [],
   "source": [
    "# data = yf.download(\"MSFT AMZN AAPL NFLX GOOG\")\n",
    "data = yf.download(\"AMZN\")"
   ]
  },
  {
   "cell_type": "code",
   "execution_count": null,
   "metadata": {},
   "outputs": [],
   "source": [
    "data"
   ]
  },
  {
   "cell_type": "code",
   "execution_count": null,
   "metadata": {},
   "outputs": [],
   "source": [
    "data.info()"
   ]
  },
  {
   "cell_type": "code",
   "execution_count": null,
   "metadata": {},
   "outputs": [],
   "source": [
    "close_prices = data['Close']"
   ]
  },
  {
   "cell_type": "code",
   "execution_count": null,
   "metadata": {},
   "outputs": [],
   "source": [
    "# Plot the 'Close' prices\n",
    "plt.figure(figsize=(7, 3))\n",
    "plt.plot(close_prices, label='Close Price')\n",
    "plt.title('Stock Prices Over Time')\n",
    "plt.xlabel('Date')\n",
    "plt.ylabel('Price')\n",
    "plt.legend()\n",
    "plt.show()"
   ]
  },
  {
   "cell_type": "markdown",
   "metadata": {},
   "source": [
    "## ARIMA"
   ]
  },
  {
   "cell_type": "markdown",
   "metadata": {},
   "source": [
    "### Determine p, d, q with PSO"
   ]
  },
  {
   "cell_type": "code",
   "execution_count": null,
   "metadata": {},
   "outputs": [],
   "source": [
    "## ARIMA Model Parameters Optimization with PSO\n",
    "def arima_fitness_function(params):\n",
    "    p, d, q = int(params[0]), int(params[1]), int(params[2])\n",
    "    model = auto_arima(close_prices, seasonal=False, trace=False, error_action='ignore', suppress_warnings=True, stepwise=True, \n",
    "                       order=(p, d, q))\n",
    "    return model.aic()\n",
    "\n",
    "# Define PSO optimizer for ARIMA parameters\n",
    "def optimize_arima_params():\n",
    "    lb = [0, 0, 0]  # Lower bounds for p, d, q\n",
    "    ub = [5, 2, 5]  # Upper bounds for p, d, q\n",
    "    best_params, _ = pso(arima_fitness_function, lb, ub, swarmsize=10, maxiter=5)\n",
    "    return int(best_params[0]), int(best_params[1]), int(best_params[2])\n",
    "\n",
    "# Get the best ARIMA parameters\n",
    "p, d, q = optimize_arima_params()\n",
    "print(f'Optimized ARIMA Parameters: p={p}, d={d}, q={q}')"
   ]
  },
  {
   "cell_type": "markdown",
   "metadata": {},
   "source": [
    "### Fit ARIMA model and make predictions"
   ]
  },
  {
   "cell_type": "code",
   "execution_count": null,
   "metadata": {},
   "outputs": [],
   "source": [
    "# Fit ARIMA model and make predictions\n",
    "from statsmodels.tsa.arima.model import ARIMA\n",
    "arima_model = ARIMA(close_prices, order=(p, d, q))\n",
    "arima_results = arima_model.fit()"
   ]
  },
  {
   "cell_type": "code",
   "execution_count": null,
   "metadata": {},
   "outputs": [],
   "source": [
    "arima_predictions = arima_results.predict(start=0, end=len(close_prices)-1, dynamic=False)"
   ]
  },
  {
   "cell_type": "code",
   "execution_count": null,
   "metadata": {},
   "outputs": [],
   "source": [
    "# Plot the original data and the ARIMA predictions\n",
    "plt.figure(figsize=(7, 3))\n",
    "plt.plot(close_prices, label='Actual Close Price', color='blue')\n",
    "plt.plot(arima_predictions, label='ARIMA Predicted Price', color='red')\n",
    "plt.title('Actual vs ARIMA Predicted Stock Prices')\n",
    "plt.xlabel('Date')\n",
    "plt.ylabel('Price')\n",
    "plt.legend()\n",
    "plt.show()"
   ]
  },
  {
   "cell_type": "code",
   "execution_count": null,
   "metadata": {},
   "outputs": [],
   "source": [
    "# Calculate the accuracy metrics for ARIMA\n",
    "mae_arima = mean_absolute_error(close_prices, arima_predictions)\n",
    "mse_arima = mean_squared_error(close_prices, arima_predictions)\n",
    "rmse_arima = np.sqrt(mse_arima)\n",
    "r2_arima = r2_score(close_prices, arima_predictions)\n",
    "print(f'ARIMA Mean Absolute Error (MAE): {mae_arima:.4f}')\n",
    "print(f'ARIMA Mean Squared Error (MSE): {mse_arima:.4f}')\n",
    "print(f'ARIMA Root Mean Squared Error (RMSE): {rmse_arima:.4f}')\n",
    "print(f'ARIMA R^2 Score: {r2_arima:.4f}')"
   ]
  },
  {
   "cell_type": "markdown",
   "metadata": {},
   "source": [
    "## LSTM"
   ]
  },
  {
   "cell_type": "code",
   "execution_count": null,
   "metadata": {},
   "outputs": [],
   "source": [
    "# Scale the data\n",
    "scaler = MinMaxScaler(feature_range=(0, 1))\n",
    "scaled_data = scaler.fit_transform(close_prices.values.reshape(-1, 1))\n",
    "\n",
    "# Prepare the dataset for LSTM\n",
    "def create_dataset(data, time_step=1):\n",
    "    X, y = [], []\n",
    "    for i in range(len(data) - time_step):\n",
    "        X.append(data[i:(i + time_step), 0])\n",
    "        y.append(data[i + time_step, 0])\n",
    "    return np.array(X), np.array(y)\n",
    "\n",
    "# Define time_step (number of previous days to use for prediction)\n",
    "time_step = 10  # You can adjust this value\n",
    "\n",
    "X, y = create_dataset(scaled_data, time_step)\n",
    "X = X.reshape(X.shape[0], X.shape[1], 1)  # Reshape for LSTM [samples, time steps, features]\n",
    "\n",
    "# Split data into train and test sets\n",
    "train_size = int(len(X) * 0.8)\n",
    "X_train, X_test = X[:train_size], X[train_size:]\n",
    "y_train, y_test = y[:train_size], y[train_size:]"
   ]
  },
  {
   "cell_type": "markdown",
   "metadata": {},
   "source": [
    "## Build and Train the LSTM Model"
   ]
  },
  {
   "cell_type": "code",
   "execution_count": null,
   "metadata": {},
   "outputs": [],
   "source": [
    "## LSTM Hyperparameter Tuning with PSO\n",
    "def lstm_fitness_function(params):\n",
    "    lstm_units, learning_rate, batch_size = int(params[0]), params[1], int(params[2])\n",
    "    model_lstm = Sequential()\n",
    "    model_lstm.add(LSTM(lstm_units, return_sequences=True, input_shape=(time_step, 1)))\n",
    "    model_lstm.add(LSTM(lstm_units, return_sequences=False))\n",
    "    model_lstm.add(Dense(1))\n",
    "    model_lstm.compile(optimizer=Adam(learning_rate=learning_rate), loss='mean_squared_error')\n",
    "    history = model_lstm.fit(X_train, y_train, epochs=50, batch_size=batch_size, validation_split=0.2, verbose=0)\n",
    "    return min(history.history['val_loss'])  # Lower validation loss indicates a better model\n",
    "\n",
    "# Define PSO optimizer for LSTM hyperparameters\n",
    "def optimize_lstm_hyperparameters():\n",
    "    lb = [10, 0.001, 16]  # Lower bounds for lstm_units, learning_rate, batch_size\n",
    "    ub = [100, 0.1, 64]   # Upper bounds for lstm_units, learning_rate, batch_size\n",
    "    best_params, _ = pso(lstm_fitness_function, lb, ub, swarmsize=10, maxiter=5)\n",
    "    return int(best_params[0]), best_params[1], int(best_params[2])\n",
    "\n",
    "# Get the best LSTM hyperparameters\n",
    "lstm_units, learning_rate, batch_size = optimize_lstm_hyperparameters()\n",
    "print(f'Optimized LSTM Hyperparameters: lstm_units={lstm_units}, learning_rate={learning_rate}, batch_size={batch_size}')\n",
    "\n",
    "# Build and Train the LSTM Model\n",
    "model_lstm = Sequential()\n",
    "model_lstm.add(LSTM(lstm_units, return_sequences=True, input_shape=(time_step, 1)))\n",
    "model_lstm.add(LSTM(lstm_units, return_sequences=False))\n",
    "model_lstm.add(Dense(1))\n",
    "\n",
    "# Compile the model\n",
    "model_lstm.compile(optimizer=Adam(learning_rate=learning_rate), loss='mean_squared_error')"
   ]
  },
  {
   "cell_type": "code",
   "execution_count": null,
   "metadata": {},
   "outputs": [],
   "source": [
    "# Train the model\n",
    "history = model_lstm.fit(X_train, y_train, epochs=50, batch_size=batch_size, validation_split=0.2, verbose=1)"
   ]
  },
  {
   "cell_type": "code",
   "execution_count": null,
   "metadata": {},
   "outputs": [],
   "source": [
    "# Optional: Plot training & validation loss values for LSTM model\n",
    "plt.figure(figsize=(7, 3))\n",
    "plt.plot(history.history['loss'], label='Training Loss')\n",
    "plt.plot(history.history['val_loss'], label='Validation Loss')\n",
    "plt.title('LSTM Model Loss')\n",
    "plt.xlabel('Epoch')\n",
    "plt.ylabel('Loss')\n",
    "plt.legend()\n",
    "plt.show()"
   ]
  },
  {
   "cell_type": "markdown",
   "metadata": {},
   "source": [
    "## Make Predictions with the LSTM Model"
   ]
  },
  {
   "cell_type": "code",
   "execution_count": null,
   "metadata": {},
   "outputs": [],
   "source": [
    "# Make predictions with the LSTM Model\n",
    "lstm_predictions = model_lstm.predict(X_test)\n",
    "lstm_predictions = scaler.inverse_transform(lstm_predictions)  # Inverse transform to get actual values\n",
    "y_test = scaler.inverse_transform(y_test.reshape(-1, 1))  # Inverse transform to get actual values\n",
    "\n",
    "# Create a DataFrame to hold the LSTM predictions\n",
    "lstm_pred_df = pd.DataFrame({\n",
    "    'Date': close_prices.index[train_size + time_step:],  # Date index for test data\n",
    "    'Actual': y_test.flatten(),                          # Actual close prices\n",
    "    'LSTM_Predicted': lstm_predictions.flatten()         # LSTM predicted close prices\n",
    "})"
   ]
  },
  {
   "cell_type": "code",
   "execution_count": null,
   "metadata": {},
   "outputs": [],
   "source": [
    "# Plot the actual data and LSTM predictions\n",
    "plt.figure(figsize=(7, 3))\n",
    "plt.plot(lstm_pred_df['Date'], lstm_pred_df['Actual'], label='Actual Close Price', color='blue')\n",
    "plt.plot(lstm_pred_df['Date'], lstm_pred_df['LSTM_Predicted'], label='LSTM Predicted Close Price', color='red', linestyle='--')\n",
    "plt.title('Actual vs Predicted Stock Prices (LSTM)')\n",
    "plt.xlabel('Date')\n",
    "plt.ylabel('Price')\n",
    "plt.legend()\n",
    "plt.show()"
   ]
  },
  {
   "cell_type": "code",
   "execution_count": null,
   "metadata": {},
   "outputs": [],
   "source": [
    "# Calculate the accuracy metrics for LSTM\n",
    "mae_lstm = mean_absolute_error(lstm_pred_df['Actual'], lstm_pred_df['LSTM_Predicted'])\n",
    "mse_lstm = mean_squared_error(lstm_pred_df['Actual'], lstm_pred_df['LSTM_Predicted'])\n",
    "rmse_lstm = np.sqrt(mse_lstm)\n",
    "r2_lstm = r2_score(lstm_pred_df['Actual'], lstm_pred_df['LSTM_Predicted'])\n",
    "print(f'LSTM Mean Absolute Error (MAE): {mae_lstm:.4f}')\n",
    "print(f'LSTM Mean Squared Error (MSE): {mse_lstm:.4f}')\n",
    "print(f'LSTM Root Mean Squared Error (RMSE): {rmse_lstm:.4f}')\n",
    "print(f'LSTM R^2 Score: {r2_lstm:.4f}')"
   ]
  },
  {
   "cell_type": "markdown",
   "metadata": {},
   "source": [
    "## Combining ARIMA and LSTM Forecasts with PSO"
   ]
  },
  {
   "cell_type": "code",
   "execution_count": null,
   "metadata": {},
   "outputs": [],
   "source": [
    "# Make ARIMA predictions for the test period\n",
    "arima_forecast = arima_results.predict(start=len(close_prices) - len(y_test), end=len(close_prices) - 1, dynamic=False)\n",
    "\n",
    "# Define the fitness function for combining ARIMA and LSTM forecasts\n",
    "def combine_forecasts_fitness_function(weights):\n",
    "    arima_weight, lstm_weight = weights[0], weights[1]\n",
    "    combined_predictions = arima_weight * arima_forecast + lstm_weight * lstm_predictions.flatten()\n",
    "    return mean_squared_error(y_test.flatten(), combined_predictions)  # Lower MSE indicates better combination\n",
    "\n",
    "# Define PSO optimizer for combining forecasts\n",
    "def optimize_combination_weights():\n",
    "    lb = [0, 0]  # Lower bounds for ARIMA and LSTM weights\n",
    "    ub = [1, 1]  # Upper bounds for ARIMA and LSTM weights\n",
    "    best_weights, _ = pso(combine_forecasts_fitness_function, lb, ub, swarmsize=10, maxiter=5)\n",
    "    return best_weights\n",
    "\n",
    "# Get the best weights for combining forecasts\n",
    "best_weights = optimize_combination_weights()\n",
    "arima_weight, lstm_weight = best_weights\n",
    "print(f'Optimized Weights for Combining Forecasts: ARIMA_weight={arima_weight:.4f}, LSTM_weight={lstm_weight:.4f}')"
   ]
  },
  {
   "cell_type": "code",
   "execution_count": null,
   "metadata": {},
   "outputs": [],
   "source": [
    "# Combine forecasts using the optimal weights\n",
    "combined_predictions = arima_weight * arima_forecast + lstm_weight * lstm_predictions.flatten()"
   ]
  },
  {
   "cell_type": "markdown",
   "metadata": {},
   "source": [
    "## Evaluate the Model Performance"
   ]
  },
  {
   "cell_type": "code",
   "execution_count": null,
   "metadata": {},
   "outputs": [],
   "source": [
    "# Plot the combined forecasts\n",
    "plt.figure(figsize=(10, 5))\n",
    "plt.plot(lstm_pred_df['Date'], lstm_pred_df['Actual'], label='Actual Close Price', color='blue')\n",
    "plt.plot(lstm_pred_df['Date'], combined_predictions, label='Combined Forecasted Price', color='green', linestyle='--')\n",
    "plt.title('Actual vs Combined Forecasted Stock Prices')\n",
    "plt.xlabel('Date')\n",
    "plt.ylabel('Price')\n",
    "plt.legend()\n",
    "plt.show()"
   ]
  },
  {
   "cell_type": "code",
   "execution_count": null,
   "metadata": {},
   "outputs": [],
   "source": [
    "# Calculate accuracy metrics for combined forecasts\n",
    "mae_combined = mean_absolute_error(y_test.flatten(), combined_predictions)\n",
    "mse_combined = mean_squared_error(y_test.flatten(), combined_predictions)\n",
    "rmse_combined = np.sqrt(mse_combined)\n",
    "r2_combined = r2_score(y_test.flatten(), combined_predictions)\n",
    "print(f'Combined Forecasts Mean Absolute Error (MAE): {mae_combined:.4f}')\n",
    "print(f'Combined Forecasts Mean Squared Error (MSE): {mse_combined:.4f}')\n",
    "print(f'Combined Forecasts Root Mean Squared Error (RMSE): {rmse_combined:.4f}')\n",
    "print(f'Combined Forecasts R^2 Score: {r2_combined:.4f}')"
   ]
  },
  {
   "cell_type": "code",
   "execution_count": null,
   "metadata": {},
   "outputs": [],
   "source": []
  }
 ],
 "metadata": {
  "kernelspec": {
   "display_name": "Python 3",
   "language": "python",
   "name": "python3"
  },
  "language_info": {
   "codemirror_mode": {
    "name": "ipython",
    "version": 3
   },
   "file_extension": ".py",
   "mimetype": "text/x-python",
   "name": "python",
   "nbconvert_exporter": "python",
   "pygments_lexer": "ipython3",
   "version": "3.12.0"
  }
 },
 "nbformat": 4,
 "nbformat_minor": 2
}
